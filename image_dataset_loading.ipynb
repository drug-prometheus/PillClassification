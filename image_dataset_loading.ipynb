{
 "cells": [
  {
   "cell_type": "markdown",
   "metadata": {},
   "source": [
    "# Image Dataset Loading From OpenData csv file"
   ]
  },
  {
   "cell_type": "code",
   "execution_count": 22,
   "metadata": {},
   "outputs": [],
   "source": [
    "import pandas as pd\n",
    "\n",
    "dataset_full = pd.read_csv(\"OpenData_PotOpenTabletIdntfcC20241002.csv\")"
   ]
  },
  {
   "cell_type": "markdown",
   "metadata": {},
   "source": [
    "테스트를 위해 20개의 라벨을 사용"
   ]
  },
  {
   "cell_type": "code",
   "execution_count": 25,
   "metadata": {},
   "outputs": [],
   "source": [
    "dataset = dataset_full[:20]"
   ]
  },
  {
   "cell_type": "code",
   "execution_count": 18,
   "metadata": {},
   "outputs": [
    {
     "data": {
      "text/plain": [
       "(25445, 31)"
      ]
     },
     "execution_count": 18,
     "metadata": {},
     "output_type": "execute_result"
    }
   ],
   "source": [
    "dataset_full.shape"
   ]
  },
  {
   "cell_type": "code",
   "execution_count": 19,
   "metadata": {},
   "outputs": [],
   "source": [
    "dataset = dataset_full[dataset_full['의약품제형'] == '장방형']"
   ]
  },
  {
   "cell_type": "code",
   "execution_count": 21,
   "metadata": {},
   "outputs": [
    {
     "data": {
      "text/plain": [
       "7112"
      ]
     },
     "execution_count": 21,
     "metadata": {},
     "output_type": "execute_result"
    }
   ],
   "source": [
    "len(dataset)"
   ]
  },
  {
   "cell_type": "code",
   "execution_count": 28,
   "metadata": {},
   "outputs": [
    {
     "name": "stdout",
     "output_type": "stream",
     "text": [
      "https://nedrug.mfds.go.kr/pbp/cmn/itemImageDownload/147426403087300104\n",
      "0        가스디알정50밀리그램(디메크로틴산마그네슘)\n",
      "1             페라트라정2.5밀리그램(레트로졸)\n",
      "2               졸뎀속붕정(졸피뎀타르타르산염)\n",
      "3          가스프렌정(모사프리드시트르산염이수화물)\n",
      "4                     바르탄정(발사르탄)\n",
      "5      리피논정80밀리그램(아토르바스타틴칼슘삼수화물)\n",
      "6             사르발탄정160밀리그램(발사르탄)\n",
      "7      가스베트정5밀리그램(모사프리드시트르산염수화물)\n",
      "8           아푸르탄정150밀리그램(이르베사르탄)\n",
      "9              발사르텔정80밀리그램(발사르탄)\n",
      "10            발사르텔정160밀리그램(발사르탄)\n",
      "11       에스시탈정5밀리그램(에스시탈로프람옥살산염)\n",
      "12               발산정80밀리그램(발사르탄)\n",
      "13       가스리드정5mg(모사프리드시트르산염수화물)\n",
      "14              엑스반정80밀리그램(발사르탄)\n",
      "15    뉴멘타민서방캡슐8밀리그램(갈란타민브롬화수소산염)\n",
      "16             발트렙정160밀리그램(발사르탄)\n",
      "17                수로신디정(탐스로신염산염)\n",
      "18         로수로드정10밀리그램(로수바스타틴칼슘)\n",
      "19            디오살탄정160밀리그램(발사르탄)\n",
      "Name: 품목명, dtype: object\n"
     ]
    }
   ],
   "source": [
    "large_product_images = dataset['큰제품이미지']\n",
    "file_names = dataset['품목명']\n",
    "print(large_product_images[0])\n",
    "print(file_names)\n"
   ]
  },
  {
   "cell_type": "code",
   "execution_count": 30,
   "metadata": {},
   "outputs": [],
   "source": [
    "import os\n",
    "import requests\n"
   ]
  },
  {
   "cell_type": "code",
   "execution_count": 33,
   "metadata": {},
   "outputs": [
    {
     "name": "stdout",
     "output_type": "stream",
     "text": [
      "가스디알정50밀리그램(디메크로틴산마그네슘).png\n",
      "파일이 data\\가스디알정50밀리그램(디메크로틴산마그네슘).png에 성공적으로 저장되었습니다.\n",
      "페라트라정2.5밀리그램(레트로졸).png\n",
      "파일이 data\\페라트라정2.5밀리그램(레트로졸).png에 성공적으로 저장되었습니다.\n",
      "졸뎀속붕정(졸피뎀타르타르산염).png\n",
      "파일이 data\\졸뎀속붕정(졸피뎀타르타르산염).png에 성공적으로 저장되었습니다.\n",
      "가스프렌정(모사프리드시트르산염이수화물).png\n",
      "파일이 data\\가스프렌정(모사프리드시트르산염이수화물).png에 성공적으로 저장되었습니다.\n",
      "바르탄정(발사르탄).png\n",
      "파일이 data\\바르탄정(발사르탄).png에 성공적으로 저장되었습니다.\n",
      "리피논정80밀리그램(아토르바스타틴칼슘삼수화물).png\n",
      "파일이 data\\리피논정80밀리그램(아토르바스타틴칼슘삼수화물).png에 성공적으로 저장되었습니다.\n",
      "사르발탄정160밀리그램(발사르탄).png\n",
      "파일이 data\\사르발탄정160밀리그램(발사르탄).png에 성공적으로 저장되었습니다.\n",
      "가스베트정5밀리그램(모사프리드시트르산염수화물).png\n",
      "파일이 data\\가스베트정5밀리그램(모사프리드시트르산염수화물).png에 성공적으로 저장되었습니다.\n",
      "아푸르탄정150밀리그램(이르베사르탄).png\n",
      "파일이 data\\아푸르탄정150밀리그램(이르베사르탄).png에 성공적으로 저장되었습니다.\n",
      "발사르텔정80밀리그램(발사르탄).png\n",
      "파일이 data\\발사르텔정80밀리그램(발사르탄).png에 성공적으로 저장되었습니다.\n",
      "발사르텔정160밀리그램(발사르탄).png\n",
      "파일이 data\\발사르텔정160밀리그램(발사르탄).png에 성공적으로 저장되었습니다.\n",
      "에스시탈정5밀리그램(에스시탈로프람옥살산염).png\n",
      "파일이 data\\에스시탈정5밀리그램(에스시탈로프람옥살산염).png에 성공적으로 저장되었습니다.\n",
      "발산정80밀리그램(발사르탄).png\n",
      "파일이 data\\발산정80밀리그램(발사르탄).png에 성공적으로 저장되었습니다.\n",
      "가스리드정5mg(모사프리드시트르산염수화물).png\n",
      "파일이 data\\가스리드정5mg(모사프리드시트르산염수화물).png에 성공적으로 저장되었습니다.\n",
      "엑스반정80밀리그램(발사르탄).png\n",
      "파일이 data\\엑스반정80밀리그램(발사르탄).png에 성공적으로 저장되었습니다.\n",
      "뉴멘타민서방캡슐8밀리그램(갈란타민브롬화수소산염).png\n",
      "파일이 data\\뉴멘타민서방캡슐8밀리그램(갈란타민브롬화수소산염).png에 성공적으로 저장되었습니다.\n",
      "발트렙정160밀리그램(발사르탄).png\n",
      "파일이 data\\발트렙정160밀리그램(발사르탄).png에 성공적으로 저장되었습니다.\n",
      "수로신디정(탐스로신염산염).png\n",
      "파일이 data\\수로신디정(탐스로신염산염).png에 성공적으로 저장되었습니다.\n",
      "로수로드정10밀리그램(로수바스타틴칼슘).png\n",
      "파일이 data\\로수로드정10밀리그램(로수바스타틴칼슘).png에 성공적으로 저장되었습니다.\n",
      "디오살탄정160밀리그램(발사르탄).png\n",
      "파일이 data\\디오살탄정160밀리그램(발사르탄).png에 성공적으로 저장되었습니다.\n"
     ]
    }
   ],
   "source": [
    "folder_path = 'data'\n",
    "\n",
    "if not os.path.exists(folder_path):\n",
    "    os.makedirs(folder_path)\n",
    "\n",
    "for i in range(len(large_product_images)):\n",
    "    url = large_product_images[i]\n",
    "    file_name = file_names[i] + '.png'\n",
    "    file_path = os.path.join(folder_path, file_name)\n",
    "    print(file_name)\n",
    "\n",
    "    response = requests.get(url)\n",
    "    if response.status_code == 200:\n",
    "        with open(file_path, 'wb') as file:\n",
    "            file.write(response.content)\n",
    "        print(f\"파일이 {file_path}에 성공적으로 저장되었습니다.\")\n",
    "    else:\n",
    "        print(f\"파일을 다운로드하는 데 실패했습니다. 상태 코드: {response.status_code}\")\n",
    "        \n"
   ]
  },
  {
   "cell_type": "code",
   "execution_count": null,
   "metadata": {},
   "outputs": [],
   "source": []
  }
 ],
 "metadata": {
  "kernelspec": {
   "display_name": "py39_env",
   "language": "python",
   "name": "python3"
  },
  "language_info": {
   "codemirror_mode": {
    "name": "ipython",
    "version": 3
   },
   "file_extension": ".py",
   "mimetype": "text/x-python",
   "name": "python",
   "nbconvert_exporter": "python",
   "pygments_lexer": "ipython3",
   "version": "3.9.13"
  }
 },
 "nbformat": 4,
 "nbformat_minor": 2
}
