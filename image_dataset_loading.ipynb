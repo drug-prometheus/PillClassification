{
 "cells": [
  {
   "cell_type": "markdown",
   "metadata": {},
   "source": [
    "# Image Dataset Loading From OpenData csv file"
   ]
  },
  {
   "cell_type": "code",
   "execution_count": 22,
   "metadata": {},
   "outputs": [],
   "source": [
    "import pandas as pd\n",
    "\n",
    "dataset_full = pd.read_csv(\"OpenData_PotOpenTabletIdntfcC20241002.csv\")"
   ]
  },
  {
   "cell_type": "markdown",
   "metadata": {},
   "source": [
    "테스트를 위해 20개의 라벨을 사용"
   ]
  },
  {
   "cell_type": "code",
   "execution_count": 25,
   "metadata": {},
   "outputs": [],
   "source": [
    "dataset = dataset_full[:20]"
   ]
  },
  {
   "cell_type": "code",
   "execution_count": 18,
   "metadata": {},
   "outputs": [
    {
     "data": {
      "text/plain": [
       "(25445, 31)"
      ]
     },
     "execution_count": 18,
     "metadata": {},
     "output_type": "execute_result"
    }
   ],
   "source": [
    "dataset_full.shape"
   ]
  },
  {
   "cell_type": "code",
   "execution_count": 19,
   "metadata": {},
   "outputs": [],
   "source": [
    "dataset = dataset_full[dataset_full['의약품제형'] == '장방형']"
   ]
  },
  {
   "cell_type": "code",
   "execution_count": 21,
   "metadata": {},
   "outputs": [
    {
     "data": {
      "text/plain": [
       "7112"
      ]
     },
     "execution_count": 21,
     "metadata": {},
     "output_type": "execute_result"
    }
   ],
   "source": [
    "len(dataset)"
   ]
  },
  {
   "cell_type": "code",
   "execution_count": 41,
   "metadata": {},
   "outputs": [
    {
     "name": "stdout",
     "output_type": "stream",
     "text": [
      "<built-in method sort of list object at 0x0000026322F18F80>\n"
     ]
    },
    {
     "data": {
      "text/plain": [
       "['ApurtranTablet150mg(Irbesartan)',\n",
       " 'BalsanTablet80mg(Valsartan)',\n",
       " 'BalthrepTablet160mg(Valsartan)',\n",
       " 'DiosartanTablet160mg(Valsartan)',\n",
       " 'EscitalTablet5mg(EscitalopramOxalate)',\n",
       " 'ExbanTablet80mg(Valsartan)',\n",
       " 'FeratracTablet2.5mg(Letrozole)',\n",
       " 'GasbetTablet5mg(MosaprideCitrateHydrate)',\n",
       " 'GasdialTablet50mg(DimethiconeMagnesium)',\n",
       " 'GasprenTablet(MosaprideCitrateDihydrate)',\n",
       " 'GasridTablet5mg(MosaprideCitrateHydrate)',\n",
       " 'LipinonTablet80mg(AtorvastatinCalciumTrihydrate)',\n",
       " 'NumentaminSustainedReleaseCapsule8mg(GalantamineBromide)',\n",
       " 'RosorodTablet10mg(RosuvastatinCalcium)',\n",
       " 'SarvaltanTablet160mg(Valsartan)',\n",
       " 'SurosinDTablet(TamsulosinHydrochloride)',\n",
       " 'ValsartanTablet(Valsartan)',\n",
       " 'ValsartelTablet160mg(Valsartan)',\n",
       " 'ValsartelTablet80mg(Valsartan)',\n",
       " 'ZolpidemSustainedReleaseTablet(ZolpidemTartrate)']"
      ]
     },
     "execution_count": 41,
     "metadata": {},
     "output_type": "execute_result"
    }
   ],
   "source": [
    "large_product_images = dataset['큰제품이미지']\n",
    "# file_names = dataset['품목명']\n",
    "# print(large_product_images[0])\n",
    "# print(file_names)\n",
    "file_names_list = \"\"\"\n",
    "GasdialTablet50mg(DimethiconeMagnesium)\n",
    "FeratracTablet2.5mg(Letrozole)\n",
    "ZolpidemSustainedReleaseTablet(ZolpidemTartrate)\n",
    "GasprenTablet(MosaprideCitrateDihydrate)\n",
    "ValsartanTablet(Valsartan)\n",
    "LipinonTablet80mg(AtorvastatinCalciumTrihydrate)\n",
    "SarvaltanTablet160mg(Valsartan)\n",
    "GasbetTablet5mg(MosaprideCitrateHydrate)\n",
    "ApurtranTablet150mg(Irbesartan)\n",
    "ValsartelTablet80mg(Valsartan)\n",
    "ValsartelTablet160mg(Valsartan)\n",
    "EscitalTablet5mg(EscitalopramOxalate)\n",
    "BalsanTablet80mg(Valsartan)\n",
    "GasridTablet5mg(MosaprideCitrateHydrate)\n",
    "ExbanTablet80mg(Valsartan)\n",
    "NumentaminSustainedReleaseCapsule8mg(GalantamineBromide)\n",
    "BalthrepTablet160mg(Valsartan)\n",
    "SurosinDTablet(TamsulosinHydrochloride)\n",
    "RosorodTablet10mg(RosuvastatinCalcium)\n",
    "DiosartanTablet160mg(Valsartan)\n",
    "\"\"\"\n",
    "\n",
    "# 각 줄을 리스트의 요소로 변환\n",
    "file_names = [name.strip() for name in file_names_list.strip().split('\\n') if name.strip()]\n",
    "\n",
    "# 결과 출력\n",
    "print(file_names.sort)\n",
    "\n",
    "f= sorted(file_names)\n",
    "for i in f:\n",
    "    print(i)\n"
   ]
  },
  {
   "cell_type": "code",
   "execution_count": 36,
   "metadata": {},
   "outputs": [],
   "source": [
    "import os\n",
    "import requests\n"
   ]
  },
  {
   "cell_type": "code",
   "execution_count": 38,
   "metadata": {},
   "outputs": [
    {
     "name": "stdout",
     "output_type": "stream",
     "text": [
      "GasdialTablet50mg(DimethiconeMagnesium).jpg\n",
      "파일이 data\\GasdialTablet50mg(DimethiconeMagnesium).jpg에 성공적으로 저장되었습니다.\n",
      "FeratracTablet2.5mg(Letrozole).jpg\n",
      "파일이 data\\FeratracTablet2.5mg(Letrozole).jpg에 성공적으로 저장되었습니다.\n",
      "ZolpidemSustainedReleaseTablet(ZolpidemTartrate).jpg\n",
      "파일이 data\\ZolpidemSustainedReleaseTablet(ZolpidemTartrate).jpg에 성공적으로 저장되었습니다.\n",
      "GasprenTablet(MosaprideCitrateDihydrate).jpg\n",
      "파일이 data\\GasprenTablet(MosaprideCitrateDihydrate).jpg에 성공적으로 저장되었습니다.\n",
      "ValsartanTablet(Valsartan).jpg\n",
      "파일이 data\\ValsartanTablet(Valsartan).jpg에 성공적으로 저장되었습니다.\n",
      "LipinonTablet80mg(AtorvastatinCalciumTrihydrate).jpg\n",
      "파일이 data\\LipinonTablet80mg(AtorvastatinCalciumTrihydrate).jpg에 성공적으로 저장되었습니다.\n",
      "SarvaltanTablet160mg(Valsartan).jpg\n",
      "파일이 data\\SarvaltanTablet160mg(Valsartan).jpg에 성공적으로 저장되었습니다.\n",
      "GasbetTablet5mg(MosaprideCitrateHydrate).jpg\n",
      "파일이 data\\GasbetTablet5mg(MosaprideCitrateHydrate).jpg에 성공적으로 저장되었습니다.\n",
      "ApurtranTablet150mg(Irbesartan).jpg\n",
      "파일이 data\\ApurtranTablet150mg(Irbesartan).jpg에 성공적으로 저장되었습니다.\n",
      "ValsartelTablet80mg(Valsartan).jpg\n",
      "파일이 data\\ValsartelTablet80mg(Valsartan).jpg에 성공적으로 저장되었습니다.\n",
      "ValsartelTablet160mg(Valsartan).jpg\n",
      "파일이 data\\ValsartelTablet160mg(Valsartan).jpg에 성공적으로 저장되었습니다.\n",
      "EscitalTablet5mg(EscitalopramOxalate).jpg\n",
      "파일이 data\\EscitalTablet5mg(EscitalopramOxalate).jpg에 성공적으로 저장되었습니다.\n",
      "BalsanTablet80mg(Valsartan).jpg\n",
      "파일이 data\\BalsanTablet80mg(Valsartan).jpg에 성공적으로 저장되었습니다.\n",
      "GasridTablet5mg(MosaprideCitrateHydrate).jpg\n",
      "파일이 data\\GasridTablet5mg(MosaprideCitrateHydrate).jpg에 성공적으로 저장되었습니다.\n",
      "ExbanTablet80mg(Valsartan).jpg\n",
      "파일이 data\\ExbanTablet80mg(Valsartan).jpg에 성공적으로 저장되었습니다.\n",
      "NumentaminSustainedReleaseCapsule8mg(GalantamineBromide).jpg\n",
      "파일이 data\\NumentaminSustainedReleaseCapsule8mg(GalantamineBromide).jpg에 성공적으로 저장되었습니다.\n",
      "BalthrepTablet160mg(Valsartan).jpg\n",
      "파일이 data\\BalthrepTablet160mg(Valsartan).jpg에 성공적으로 저장되었습니다.\n",
      "SurosinDTablet(TamsulosinHydrochloride).jpg\n",
      "파일이 data\\SurosinDTablet(TamsulosinHydrochloride).jpg에 성공적으로 저장되었습니다.\n",
      "RosorodTablet10mg(RosuvastatinCalcium).jpg\n",
      "파일이 data\\RosorodTablet10mg(RosuvastatinCalcium).jpg에 성공적으로 저장되었습니다.\n",
      "DiosartanTablet160mg(Valsartan).jpg\n",
      "파일이 data\\DiosartanTablet160mg(Valsartan).jpg에 성공적으로 저장되었습니다.\n"
     ]
    }
   ],
   "source": [
    "folder_path = 'data'\n",
    "\n",
    "if not os.path.exists(folder_path):\n",
    "    os.makedirs(folder_path)\n",
    "\n",
    "for i in range(len(large_product_images)):\n",
    "    url = large_product_images[i]\n",
    "    file_name = file_names[i] + '.jpg'\n",
    "    file_path = os.path.join(folder_path, file_name)\n",
    "    print(file_name)\n",
    "\n",
    "    response = requests.get(url)\n",
    "    if response.status_code == 200:\n",
    "        with open(file_path, 'wb') as file:\n",
    "            file.write(response.content)\n",
    "        print(f\"파일이 {file_path}에 성공적으로 저장되었습니다.\")\n",
    "    else:\n",
    "        print(f\"파일을 다운로드하는 데 실패했습니다. 상태 코드: {response.status_code}\")\n",
    "        \n"
   ]
  },
  {
   "cell_type": "code",
   "execution_count": null,
   "metadata": {},
   "outputs": [],
   "source": []
  }
 ],
 "metadata": {
  "kernelspec": {
   "display_name": "py39_env",
   "language": "python",
   "name": "python3"
  },
  "language_info": {
   "codemirror_mode": {
    "name": "ipython",
    "version": 3
   },
   "file_extension": ".py",
   "mimetype": "text/x-python",
   "name": "python",
   "nbconvert_exporter": "python",
   "pygments_lexer": "ipython3",
   "version": "3.9.13"
  }
 },
 "nbformat": 4,
 "nbformat_minor": 2
}
