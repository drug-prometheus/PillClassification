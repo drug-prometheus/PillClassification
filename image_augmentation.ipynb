{
 "cells": [
  {
   "cell_type": "markdown",
   "metadata": {},
   "source": [
    "# Image Augmentation\n",
    "\n",
    "1. Image resize"
   ]
  },
  {
   "cell_type": "code",
   "execution_count": 8,
   "metadata": {},
   "outputs": [
    {
     "name": "stdout",
     "output_type": "stream",
     "text": [
      "Resized image and bounding box saved for cropped_images2/GasridTablet5mg(MosaprideCitrateHydrate)_crop_10_1.jpg\n",
      "Resized image and bounding box saved for cropped_images2/GasridTablet5mg(MosaprideCitrateHydrate)_crop_10_0.jpg\n",
      "Resized image and bounding box saved for cropped_images2/GasbetTablet5mg(MosaprideCitrateHydrate)_crop_7_0.jpg\n",
      "Resized image and bounding box saved for cropped_images2/RosorodTablet10mg(RosuvastatinCalcium)_crop_13_0.jpg\n",
      "Resized image and bounding box saved for cropped_images2/LipinonTablet80mg(AtorvastatinCalciumTrihydrate)_crop_11_1.jpg\n",
      "Resized image and bounding box saved for cropped_images2/LipinonTablet80mg(AtorvastatinCalciumTrihydrate)_crop_11_0.jpg\n",
      "Resized image and bounding box saved for cropped_images2/RosorodTablet10mg(RosuvastatinCalcium)_crop_13_1.jpg\n",
      "Resized image and bounding box saved for cropped_images2/GasbetTablet5mg(MosaprideCitrateHydrate)_crop_7_1.jpg\n",
      "Resized image and bounding box saved for cropped_images2/GasdialTablet50mg(DimethiconeMagnesium)_crop_8_1.jpg\n",
      "Resized image and bounding box saved for cropped_images2/GasdialTablet50mg(DimethiconeMagnesium)_crop_8_0.jpg\n",
      "Resized image and bounding box saved for cropped_images2/SarvaltanTablet160mg(Valsartan)_crop_14_0.jpg\n",
      "Resized image and bounding box saved for cropped_images2/SarvaltanTablet160mg(Valsartan)_crop_14_1.jpg\n",
      "Resized image and bounding box saved for cropped_images2/NumentaminSustainedReleaseCapsule8mg(GalantamineBromide)_crop_12_0.jpg\n",
      "Resized image and bounding box saved for cropped_images2/NumentaminSustainedReleaseCapsule8mg(GalantamineBromide)_crop_12_1.jpg\n",
      "Resized image and bounding box saved for cropped_images2/ApurtranTablet150mg(Irbesartan)_crop_0_0.jpg\n",
      "Resized image and bounding box saved for cropped_images2/EscitalTablet5mg(EscitalopramOxalate)_crop_4_0.jpg\n",
      "Resized image and bounding box saved for cropped_images2/ValsartelTablet160mg(Valsartan)_crop_17_0.jpg\n",
      "Resized image and bounding box saved for cropped_images2/ValsartelTablet160mg(Valsartan)_crop_17_1.jpg\n",
      "Resized image and bounding box saved for cropped_images2/EscitalTablet5mg(EscitalopramOxalate)_crop_4_1.jpg\n",
      "Resized image and bounding box saved for cropped_images2/ApurtranTablet150mg(Irbesartan)_crop_0_1.jpg\n",
      "Resized image and bounding box saved for cropped_images2/FeratracTablet2.5mg(Letrozole)_crop_6_0.jpg\n",
      "Resized image and bounding box saved for cropped_images2/FeratracTablet2.5mg(Letrozole)_crop_6_1.jpg\n",
      "Resized image and bounding box saved for cropped_images2/SurosinDTablet(TamsulosinHydrochloride)_crop_15_0.jpg\n",
      "Resized image and bounding box saved for cropped_images2/ValsartelTablet80mg(Valsartan)_crop_18_1.jpg\n",
      "Resized image and bounding box saved for cropped_images2/ValsartanTablet(Valsartan)_crop_16_0.jpg\n",
      "Resized image and bounding box saved for cropped_images2/GasprenTablet(MosaprideCitrateDihydrate)_crop_9_1.jpg\n",
      "Resized image and bounding box saved for cropped_images2/GasprenTablet(MosaprideCitrateDihydrate)_crop_9_0.jpg\n",
      "Resized image and bounding box saved for cropped_images2/ValsartanTablet(Valsartan)_crop_16_1.jpg\n",
      "Resized image and bounding box saved for cropped_images2/ValsartelTablet80mg(Valsartan)_crop_18_0.jpg\n",
      "Resized image and bounding box saved for cropped_images2/SurosinDTablet(TamsulosinHydrochloride)_crop_15_1.jpg\n",
      "Resized image and bounding box saved for cropped_images2/BalthrepTablet160mg(Valsartan)_crop_2_0.jpg\n",
      "Resized image and bounding box saved for cropped_images2/BalthrepTablet160mg(Valsartan)_crop_2_1.jpg\n",
      "Resized image and bounding box saved for cropped_images2/ZolpidemSustainedReleaseTablet(ZolpidemTartrate)_crop_19_1.jpg\n",
      "Resized image and bounding box saved for cropped_images2/ZolpidemSustainedReleaseTablet(ZolpidemTartrate)_crop_19_0.jpg\n",
      "Resized image and bounding box saved for cropped_images2/ExbanTablet80mg(Valsartan)_crop_5_1.jpg\n",
      "Resized image and bounding box saved for cropped_images2/ExbanTablet80mg(Valsartan)_crop_5_0.jpg\n",
      "Resized image and bounding box saved for cropped_images2/BalsanTablet80mg(Valsartan)_crop_1_1.jpg\n",
      "Resized image and bounding box saved for cropped_images2/BalsanTablet80mg(Valsartan)_crop_1_0.jpg\n",
      "Resized image and bounding box saved for cropped_images2/DiosartanTablet160mg(Valsartan)_crop_3_1.jpg\n",
      "Resized image and bounding box saved for cropped_images2/DiosartanTablet160mg(Valsartan)_crop_3_0.jpg\n"
     ]
    }
   ],
   "source": [
    "import cv2\n",
    "import os\n",
    "\n",
    "def resize_image_with_aspect_ratio_and_adjust_bboxes(image_path, bbox_path, output_folder, target_size=(100, 100)):\n",
    "    # 이미지 읽기\n",
    "    image = cv2.imread(image_path)\n",
    "    h, w, _ = image.shape\n",
    "\n",
    "    # 비율 유지하며 이미지 리사이즈\n",
    "    scale = min(target_size[0] / h, target_size[1] / w)\n",
    "    new_w = int(w * scale)\n",
    "    new_h = int(h * scale)\n",
    "\n",
    "    resized_image = cv2.resize(image, (new_w, new_h))\n",
    "\n",
    "    # 패딩 추가하여 target_size에 맞추기\n",
    "    delta_w = target_size[1] - new_w\n",
    "    delta_h = target_size[0] - new_h\n",
    "    top, bottom = delta_h // 2, delta_h - (delta_h // 2)\n",
    "    left, right = delta_w // 2, delta_w - (delta_w // 2)\n",
    "\n",
    "    color = [0, 0, 0]  # 검은색 패딩\n",
    "    padded_image = cv2.copyMakeBorder(resized_image, top, bottom, left, right, cv2.BORDER_CONSTANT, value=color)\n",
    "\n",
    "    # 바운딩 박스 읽기 (YOLO 형식)\n",
    "    bboxes = []\n",
    "    with open(bbox_path, 'r') as file:\n",
    "        lines = file.readlines()\n",
    "        for line in lines:\n",
    "            parts = line.strip().split()\n",
    "            label = int(parts[0])\n",
    "            x_center, y_center, width, height = map(float, parts[1:])\n",
    "\n",
    "            # 기존 바운딩 박스 좌표를 리사이즈된 이미지에 맞게 조정\n",
    "            new_x_center = (x_center * w * scale + left) / target_size[1]\n",
    "            new_y_center = (y_center * h * scale + top) / target_size[0]\n",
    "            new_width = width * scale * (w / target_size[1])  # 바운딩 박스 크기도 리사이즈\n",
    "            new_height = height * scale * (h / target_size[0])\n",
    "\n",
    "            bboxes.append([label, new_x_center, new_y_center, new_width, new_height])\n",
    "\n",
    "    # 리사이즈된 이미지 저장 경로\n",
    "    resized_image_path = os.path.join(output_folder, os.path.splitext(os.path.basename(image_path))[0] + '_resized.jpg')\n",
    "    cv2.imwrite(resized_image_path, padded_image)\n",
    "\n",
    "    # 조정된 바운딩 박스 저장 경로\n",
    "    resized_bbox_path = os.path.join(output_folder, os.path.splitext(os.path.basename(bbox_path))[0] + '_resized.txt')\n",
    "    with open(resized_bbox_path, 'w') as file:\n",
    "        for bbox in bboxes:\n",
    "            file.write(f\"{bbox[0]} {bbox[1]:.6f} {bbox[2]:.6f} {bbox[3]:.6f} {bbox[4]:.6f}\\n\")\n",
    "\n",
    "    return resized_image_path, resized_bbox_path\n",
    "\n",
    "# 예시 경로\n",
    "data_path = 'cropped_images2/'  # 데이터가 있는 디렉토리 경로\n",
    "output_folder = 'resized_images_100x100'  # 이미지를 저장할 경로\n",
    "\n",
    "# 출력 폴더가 없으면 생성\n",
    "if not os.path.exists(output_folder):\n",
    "    os.makedirs(output_folder)\n",
    "\n",
    "# 데이터 디렉토리 내 모든 파일에 대해 처리\n",
    "image_extensions = ('.jpg', '.jpeg', '.png')  # 지원하는 이미지 파일 확장자\n",
    "for filename in os.listdir(data_path):\n",
    "    if filename.endswith(image_extensions):\n",
    "        image_path = os.path.join(data_path, filename)\n",
    "        bbox_path = os.path.splitext(image_path)[0] + '.txt'  # 동일한 이름의 바운딩 박스 파일\n",
    "\n",
    "        if os.path.exists(bbox_path):\n",
    "            resize_image_with_aspect_ratio_and_adjust_bboxes(image_path, bbox_path, output_folder, target_size=(100, 100))\n",
    "            print(f\"Resized image and bounding box saved for {image_path}\")\n",
    "        else:\n",
    "            print(f\"Bounding box file not found for {image_path}\")\n"
   ]
  },
  {
   "cell_type": "markdown",
   "metadata": {},
   "source": [
    "### Check Image bbox "
   ]
  },
  {
   "cell_type": "code",
   "execution_count": 9,
   "metadata": {},
   "outputs": [],
   "source": [
    "import cv2\n",
    "import os\n",
    "\n",
    "def draw_bboxes(image_path, bbox_path, output_path=None):\n",
    "    # 이미지 읽기\n",
    "    image = cv2.imread(image_path)\n",
    "    h, w, _ = image.shape\n",
    "    \n",
    "    # 바운딩 박스 읽기 (YOLO 형식)\n",
    "    with open(bbox_path, 'r') as file:\n",
    "        lines = file.readlines()\n",
    "        for line in lines:\n",
    "            parts = line.strip().split()\n",
    "            label = int(parts[0])\n",
    "            x_center, y_center, width, height = map(float, parts[1:])\n",
    "            \n",
    "            # YOLO 형식의 바운딩 박스를 픽셀 좌표로 변환\n",
    "            x1 = int((x_center - width / 2) * w)\n",
    "            y1 = int((y_center - height / 2) * h)\n",
    "            x2 = int((x_center + width / 2) * w)\n",
    "            y2 = int((y_center + height / 2) * h)\n",
    "            \n",
    "            # 바운딩 박스 그리기 (색상은 랜덤으로 지정)\n",
    "            color = (0, 255, 0)  # 초록색 바운딩 박스\n",
    "            cv2.rectangle(image, (x1, y1), (x2, y2), color, 2)\n",
    "            cv2.putText(image, f'Label: {label}', (x1, y1 - 10), cv2.FONT_HERSHEY_SIMPLEX, 0.5, color, 2)\n",
    "    \n",
    "    # 바운딩 박스가 그려진 이미지 저장 또는 출력\n",
    "    if output_path:\n",
    "        cv2.imwrite(output_path, image)\n",
    "    else:\n",
    "        cv2.imshow('Image with Bounding Boxes', image)\n",
    "        cv2.waitKey(0)\n",
    "        cv2.destroyAllWindows()\n",
    "\n",
    "# 사용 예시\n",
    "image_path = 'resized_images_100x100/ApurtranTablet150mg(Irbesartan)_crop_0_0_resized.jpg'  # 실제 이미지 경로\n",
    "bbox_path = 'resized_images_100x100/ApurtranTablet150mg(Irbesartan)_crop_0_0_resized.txt'    # 실제 YOLO 형식의 바운딩 박스 파일 경로\n",
    "output_image_path = 'image_with_bboxes_test7.jpg'  # 결과 이미지를 저장할 경로\n",
    "\n",
    "draw_bboxes(image_path, bbox_path, output_image_path)\n"
   ]
  },
  {
   "cell_type": "code",
   "execution_count": 10,
   "metadata": {},
   "outputs": [
    {
     "data": {
      "image/png": "[encoded data removed]",
      "text/plain": [
       "<Figure size 640x480 with 1 Axes>"
      ]
     },
     "metadata": {},
     "output_type": "display_data"
    }
   ],
   "source": [
    "import cv2\n",
    "import matplotlib.pyplot as plt\n",
    "\n",
    "def show_image(image_path):\n",
    "    # 이미지 읽기\n",
    "    image = cv2.imread(image_path)\n",
    "    \n",
    "    # BGR을 RGB로 변환\n",
    "    image_rgb = cv2.cvtColor(image, cv2.COLOR_BGR2RGB)\n",
    "    \n",
    "    # 이미지 표시\n",
    "    plt.imshow(image_rgb)\n",
    "    plt.axis('off')  # 축 숨기기\n",
    "    plt.show()\n",
    "\n",
    "# 예시 경로\n",
    "image_path = 'image_with_bboxes_test7.jpg'  # 확인할 이미지 경로\n",
    "show_image(image_path)\n"
   ]
  },
  {
   "cell_type": "markdown",
   "metadata": {},
   "source": [
    "### Image Augmentation with Imgaug"
   ]
  },
  {
   "cell_type": "code",
   "execution_count": null,
   "metadata": {},
   "outputs": [],
   "source": []
  }
 ],
 "metadata": {
  "kernelspec": {
   "display_name": "py39_env",
   "language": "python",
   "name": "python3"
  },
  "language_info": {
   "codemirror_mode": {
    "name": "ipython",
    "version": 3
   },
   "file_extension": ".py",
   "mimetype": "text/x-python",
   "name": "python",
   "nbconvert_exporter": "python",
   "pygments_lexer": "ipython3",
   "version": "3.10.9"
  }
 },
 "nbformat": 4,
 "nbformat_minor": 2
}
