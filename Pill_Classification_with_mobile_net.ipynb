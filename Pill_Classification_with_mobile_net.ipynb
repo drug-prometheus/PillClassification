{
 "cells": [
  {
   "cell_type": "markdown",
   "metadata": {},
   "source": [
    "# Pill Classification using mobile net "
   ]
  },
  {
   "cell_type": "code",
   "execution_count": 4,
   "metadata": {},
   "outputs": [],
   "source": [
    "import os\n",
    "import numpy as np\n",
    "import re\n",
    "import shutil"
   ]
  },
  {
   "cell_type": "markdown",
   "metadata": {},
   "source": [
    "### Dataset preparation"
   ]
  },
  {
   "cell_type": "code",
   "execution_count": 10,
   "metadata": {},
   "outputs": [
    {
     "name": "stdout",
     "output_type": "stream",
     "text": [
      "현재 경로: /Users/seyeong/workspace/drugmaster_pillClassification/PillClassification\n"
     ]
    }
   ],
   "source": [
    "current_directory = os.getcwd()\n",
    "print(\"현재 경로:\", current_directory)"
   ]
  },
  {
   "cell_type": "code",
   "execution_count": 35,
   "metadata": {},
   "outputs": [
    {
     "name": "stdout",
     "output_type": "stream",
     "text": [
      "test_augmented_images\n",
      "train/rectangle_img\n",
      "train/rectangle_annotation\n"
     ]
    }
   ],
   "source": [
    "data_dir = 'test_augmented_images'\n",
    "train = 'train'\n",
    "validation = 'validation'\n",
    "aug_data_dir = os.path.join(data_dir)\n",
    "print(aug_data_dir)\n",
    "image_dir = os.path.join(train, 'rectangle_img')\n",
    "print(image_dir)\n",
    "bbox_dir = os.path.join(train, 'rectangle_annotation')\n",
    "print(bbox_dir)"
   ]
  },
  {
   "cell_type": "code",
   "execution_count": 16,
   "metadata": {},
   "outputs": [],
   "source": [
    "for file in os.listdir(aug_data_dir):\n",
    "#     print(file)\n",
    "#     print(re.split('[/,-,(,). :]',file)[-1])\n",
    "    file_format = re.split('[.]',file)[-1]\n",
    "#     print(os.path.join(image_dir, file))\n",
    "#     print(os.path.join(aug_data_dir, file))\n",
    "    if file_format=='jpg':\n",
    "        shutil.copy(os.path.join(aug_data_dir, file), os.path.join(image_dir, file))\n",
    "    else:\n",
    "        shutil.copy(os.path.join(aug_data_dir, file), os.path.join(bbox_dir, file))"
   ]
  },
  {
   "cell_type": "code",
   "execution_count": 17,
   "metadata": {},
   "outputs": [
    {
     "name": "stdout",
     "output_type": "stream",
     "text": [
      "40000\n"
     ]
    },
    {
     "data": {
      "text/plain": [
       "['ApurtranTablet150mg(Irbesartan)_0_augmented_image_333.jpg',\n",
       " 'LipinonTablet80mg(AtorvastatinCalciumTrihydrate)_1_augmented_image_519.jpg',\n",
       " 'GasridTablet5mg(MosaprideCitrateHydrate)_1_augmented_image_826.jpg',\n",
       " 'GasbetTablet5mg(MosaprideCitrateHydrate)_1_augmented_image_480.jpg',\n",
       " 'NumentaminSustainedReleaseCapsule8mg(GalantamineBromide)_0_augmented_image_678.jpg']"
      ]
     },
     "execution_count": 17,
     "metadata": {},
     "output_type": "execute_result"
    }
   ],
   "source": [
    "## image file 수 확인\n",
    "image_files = [fname for fname in os.listdir(image_dir) if os.path.splitext(fname)[-1] == '.jpg']\n",
    "print(len(image_files))\n",
    "image_files[:5]"
   ]
  },
  {
   "cell_type": "code",
   "execution_count": 31,
   "metadata": {},
   "outputs": [
    {
     "name": "stdout",
     "output_type": "stream",
     "text": [
      "20\n"
     ]
    }
   ],
   "source": [
    "# class수 확인\n",
    "class_list = set()\n",
    "for image_file in image_files:\n",
    "    file_name = re.split('_',image_file)[0]\n",
    "    class_list.add(file_name)\n",
    "\n",
    "class_list = list(class_list)\n",
    "print(len(class_list))"
   ]
  },
  {
   "cell_type": "code",
   "execution_count": 32,
   "metadata": {},
   "outputs": [
    {
     "data": {
      "text/plain": [
       "['ApurtranTablet150mg(Irbesartan)',\n",
       " 'BalsanTablet80mg(Valsartan)',\n",
       " 'BalthrepTablet160mg(Valsartan)',\n",
       " 'DiosartanTablet160mg(Valsartan)',\n",
       " 'EscitalTablet5mg(EscitalopramOxalate)']"
      ]
     },
     "execution_count": 32,
     "metadata": {},
     "output_type": "execute_result"
    }
   ],
   "source": [
    "class_list.sort()\n",
    "class_list[:5]"
   ]
  },
  {
   "cell_type": "code",
   "execution_count": 34,
   "metadata": {},
   "outputs": [
    {
     "data": {
      "text/plain": [
       "0"
      ]
     },
     "execution_count": 34,
     "metadata": {},
     "output_type": "execute_result"
    }
   ],
   "source": [
    "class2idx = {cls:idx for idx, cls in enumerate(class_list)}\n",
    "class2idx['ApurtranTablet150mg(Irbesartan)']"
   ]
  },
  {
   "cell_type": "code",
   "execution_count": 39,
   "metadata": {},
   "outputs": [
    {
     "name": "stdout",
     "output_type": "stream",
     "text": [
      "40000 16000\n"
     ]
    }
   ],
   "source": [
    "train_images = os.listdir(image_dir)\n",
    "val_images = os.listdir(validation)\n",
    "\n",
    "print(len(train_images), len(val_images))"
   ]
  },
  {
   "cell_type": "code",
   "execution_count": 40,
   "metadata": {},
   "outputs": [
    {
     "data": {
      "text/plain": [
       "['ApurtranTablet150mg(Irbesartan)_0_augmented_image_333.jpg',\n",
       " 'LipinonTablet80mg(AtorvastatinCalciumTrihydrate)_1_augmented_image_519.jpg',\n",
       " 'GasridTablet5mg(MosaprideCitrateHydrate)_1_augmented_image_826.jpg',\n",
       " 'GasbetTablet5mg(MosaprideCitrateHydrate)_1_augmented_image_480.jpg',\n",
       " 'NumentaminSustainedReleaseCapsule8mg(GalantamineBromide)_0_augmented_image_678.jpg',\n",
       " 'SurosinDTablet(TamsulosinHydrochloride)_1_augmented_image_433.jpg',\n",
       " 'BalsanTablet80mg(Valsartan)_0_augmented_image_473.jpg',\n",
       " 'ApurtranTablet150mg(Irbesartan)_0_augmented_image_73.jpg',\n",
       " 'EscitalTablet5mg(EscitalopramOxalate)_1_augmented_image_355.jpg',\n",
       " 'ValsartelTablet80mg(Valsartan)_1_augmented_image_631.jpg']"
      ]
     },
     "execution_count": 40,
     "metadata": {},
     "output_type": "execute_result"
    }
   ],
   "source": [
    "train_images[:10]"
   ]
  },
  {
   "cell_type": "code",
   "execution_count": 41,
   "metadata": {},
   "outputs": [
    {
     "data": {
      "text/plain": [
       "['BalthrepTablet160mg(Valsartan)_0_augmented_image_87.txt',\n",
       " 'ApurtranTablet150mg(Irbesartan)_0_augmented_image_73.jpg',\n",
       " 'LipinonTablet80mg(AtorvastatinCalciumTrihydrate)_0_augmented_image_7.jpg',\n",
       " 'RosorodTablet10mg(RosuvastatinCalcium)_1_augmented_image_37.jpg',\n",
       " 'ZolpidemSustainedReleaseTablet(ZolpidemTartrate)_1_augmented_image_157.jpg',\n",
       " 'GasdialTablet50mg(DimethiconeMagnesium)_1_augmented_image_177.jpg',\n",
       " 'GasprenTablet(MosaprideCitrateDihydrate)_1_augmented_image_73.txt',\n",
       " 'LipinonTablet80mg(AtorvastatinCalciumTrihydrate)_1_augmented_image_143.txt',\n",
       " 'FeratracTablet2.5mg(Letrozole)_1_augmented_image_151.jpg',\n",
       " 'SarvaltanTablet160mg(Valsartan)_0_augmented_image_130.jpg']"
      ]
     },
     "execution_count": 41,
     "metadata": {},
     "output_type": "execute_result"
    }
   ],
   "source": [
    "val_images[:10]"
   ]
  },
  {
   "cell_type": "markdown",
   "metadata": {},
   "source": [
    "### TFRecord"
   ]
  },
  {
   "cell_type": "code",
   "execution_count": 42,
   "metadata": {},
   "outputs": [],
   "source": [
    "IMG_SIZE = 100"
   ]
  },
  {
   "cell_type": "code",
   "execution_count": 43,
   "metadata": {},
   "outputs": [],
   "source": [
    "\n",
    "## TFRecord 저장할 directory와 file 경로 설정\n",
    "tfr_dir = os.path.join('tfrecord')\n",
    "os.makedirs(tfr_dir, exist_ok=True)\n",
    "\n",
    "tfr_train_dir = os.path.join(tfr_dir, 'cls_train.tfr')\n",
    "tfr_val_dir = os.path.join(tfr_dir, 'cls_val.tfr')"
   ]
  }
 ],
 "metadata": {
  "kernelspec": {
   "display_name": "pill_detection",
   "language": "python",
   "name": "python3"
  },
  "language_info": {
   "codemirror_mode": {
    "name": "ipython",
    "version": 3
   },
   "file_extension": ".py",
   "mimetype": "text/x-python",
   "name": "python",
   "nbconvert_exporter": "python",
   "pygments_lexer": "ipython3",
   "version": "3.8.18"
  }
 },
 "nbformat": 4,
 "nbformat_minor": 2
}
